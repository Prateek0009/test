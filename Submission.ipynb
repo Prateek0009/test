{
 "cells": [
  {
   "cell_type": "code",
   "execution_count": 1,
   "id": "a14760ff",
   "metadata": {},
   "outputs": [
    {
     "name": "stdout",
     "output_type": "stream",
     "text": [
      "Requirement already satisfied: mysql.connector in c:\\users\\prate\\anaconda3\\lib\\site-packages (2.2.9)\n",
      "Note: you may need to restart the kernel to use updated packages.\n"
     ]
    }
   ],
   "source": [
    "pip install mysql.connector"
   ]
  },
  {
   "cell_type": "code",
   "execution_count": 4,
   "id": "3c65a859",
   "metadata": {},
   "outputs": [],
   "source": [
    "import mysql.connector as c"
   ]
  },
  {
   "cell_type": "code",
   "execution_count": 3,
   "id": "fc487ffb",
   "metadata": {},
   "outputs": [],
   "source": [
    "import pandas as pd"
   ]
  },
  {
   "cell_type": "code",
   "execution_count": 23,
   "id": "e45a0737",
   "metadata": {},
   "outputs": [],
   "source": [
    "connection = c.connect(host= \"localhost\",user= \"root\", database = \"Multi_Specialty_Hospital\")"
   ]
  },
  {
   "cell_type": "code",
   "execution_count": 46,
   "id": "2a365c9f",
   "metadata": {},
   "outputs": [],
   "source": [
    "cursor = connection.cursor()"
   ]
  },
  {
   "cell_type": "code",
   "execution_count": 47,
   "id": "10a3ebf6",
   "metadata": {},
   "outputs": [],
   "source": [
    "query2 = \"select * from patients\""
   ]
  },
  {
   "cell_type": "code",
   "execution_count": 48,
   "id": "fdd368db",
   "metadata": {},
   "outputs": [],
   "source": [
    "# executing cursor\n",
    "cursor.execute(query2)"
   ]
  },
  {
   "cell_type": "code",
   "execution_count": 49,
   "id": "bd61c84f",
   "metadata": {},
   "outputs": [
    {
     "name": "stdout",
     "output_type": "stream",
     "text": [
      "Total Number of rows in table: 5\n"
     ]
    }
   ],
   "source": [
    "# fetching tables\n",
    "table_rows = cursor.fetchall()\n",
    "print(\"Total Number of rows in table:\", cursor.rowcount)"
   ]
  },
  {
   "cell_type": "code",
   "execution_count": 50,
   "id": "7119a9ce",
   "metadata": {},
   "outputs": [
    {
     "data": {
      "text/html": [
       "<div>\n",
       "<style scoped>\n",
       "    .dataframe tbody tr th:only-of-type {\n",
       "        vertical-align: middle;\n",
       "    }\n",
       "\n",
       "    .dataframe tbody tr th {\n",
       "        vertical-align: top;\n",
       "    }\n",
       "\n",
       "    .dataframe thead th {\n",
       "        text-align: right;\n",
       "    }\n",
       "</style>\n",
       "<table border=\"1\" class=\"dataframe\">\n",
       "  <thead>\n",
       "    <tr style=\"text-align: right;\">\n",
       "      <th></th>\n",
       "      <th>CUSTOMER_NAME</th>\n",
       "      <th>CUSTOMER_ID</th>\n",
       "      <th>CUSTOMER_OPEN_DATE</th>\n",
       "      <th>LAST_CONSULTED_DATE</th>\n",
       "      <th>VACCINATION_TYPE</th>\n",
       "      <th>DOCTOR_CONSULTED</th>\n",
       "      <th>STATE</th>\n",
       "      <th>COUNTRY</th>\n",
       "      <th>DOB</th>\n",
       "      <th>FLAG</th>\n",
       "    </tr>\n",
       "  </thead>\n",
       "  <tbody>\n",
       "    <tr>\n",
       "      <th>0</th>\n",
       "      <td>Alex</td>\n",
       "      <td>123457</td>\n",
       "      <td>2012-10-12</td>\n",
       "      <td>2012-10-13</td>\n",
       "      <td>MVD</td>\n",
       "      <td>Paul</td>\n",
       "      <td>SA</td>\n",
       "      <td>USA</td>\n",
       "      <td>1987-03-06</td>\n",
       "      <td>A</td>\n",
       "    </tr>\n",
       "    <tr>\n",
       "      <th>1</th>\n",
       "      <td>Jacob</td>\n",
       "      <td>1256</td>\n",
       "      <td>2012-10-12</td>\n",
       "      <td>2012-10-13</td>\n",
       "      <td>MVD</td>\n",
       "      <td></td>\n",
       "      <td>VIC</td>\n",
       "      <td>AU</td>\n",
       "      <td>1987-03-06</td>\n",
       "      <td>A</td>\n",
       "    </tr>\n",
       "    <tr>\n",
       "      <th>2</th>\n",
       "      <td>Jhon</td>\n",
       "      <td>123458</td>\n",
       "      <td>2012-10-12</td>\n",
       "      <td>2012-10-13</td>\n",
       "      <td>MVD</td>\n",
       "      <td></td>\n",
       "      <td>TN</td>\n",
       "      <td>IND</td>\n",
       "      <td>1987-03-06</td>\n",
       "      <td>A</td>\n",
       "    </tr>\n",
       "    <tr>\n",
       "      <th>3</th>\n",
       "      <td>Mathew</td>\n",
       "      <td>123459</td>\n",
       "      <td>2012-10-12</td>\n",
       "      <td>2012-10-13</td>\n",
       "      <td>MVD</td>\n",
       "      <td></td>\n",
       "      <td>WAS</td>\n",
       "      <td>PHIL</td>\n",
       "      <td>1987-03-06</td>\n",
       "      <td>A</td>\n",
       "    </tr>\n",
       "    <tr>\n",
       "      <th>4</th>\n",
       "      <td>Matt</td>\n",
       "      <td>12345</td>\n",
       "      <td>2012-10-12</td>\n",
       "      <td>2012-10-13</td>\n",
       "      <td>MVD</td>\n",
       "      <td></td>\n",
       "      <td>BOS</td>\n",
       "      <td>NYC</td>\n",
       "      <td>1987-03-06</td>\n",
       "      <td>A</td>\n",
       "    </tr>\n",
       "  </tbody>\n",
       "</table>\n",
       "</div>"
      ],
      "text/plain": [
       "  CUSTOMER_NAME CUSTOMER_ID CUSTOMER_OPEN_DATE LAST_CONSULTED_DATE  \\\n",
       "0          Alex      123457         2012-10-12          2012-10-13   \n",
       "1         Jacob        1256         2012-10-12          2012-10-13   \n",
       "2          Jhon      123458         2012-10-12          2012-10-13   \n",
       "3        Mathew      123459         2012-10-12          2012-10-13   \n",
       "4          Matt       12345         2012-10-12          2012-10-13   \n",
       "\n",
       "  VACCINATION_TYPE DOCTOR_CONSULTED STATE COUNTRY         DOB FLAG  \n",
       "0              MVD             Paul    SA     USA  1987-03-06    A  \n",
       "1              MVD                    VIC      AU  1987-03-06    A  \n",
       "2              MVD                     TN     IND  1987-03-06    A  \n",
       "3              MVD                    WAS    PHIL  1987-03-06    A  \n",
       "4              MVD                    BOS     NYC  1987-03-06    A  "
      ]
     },
     "execution_count": 50,
     "metadata": {},
     "output_type": "execute_result"
    }
   ],
   "source": [
    "df"
   ]
  },
  {
   "cell_type": "code",
   "execution_count": 44,
   "id": "1a9c60a7",
   "metadata": {},
   "outputs": [
    {
     "data": {
      "text/html": [
       "<div>\n",
       "<style scoped>\n",
       "    .dataframe tbody tr th:only-of-type {\n",
       "        vertical-align: middle;\n",
       "    }\n",
       "\n",
       "    .dataframe tbody tr th {\n",
       "        vertical-align: top;\n",
       "    }\n",
       "\n",
       "    .dataframe thead th {\n",
       "        text-align: right;\n",
       "    }\n",
       "</style>\n",
       "<table border=\"1\" class=\"dataframe\">\n",
       "  <thead>\n",
       "    <tr style=\"text-align: right;\">\n",
       "      <th></th>\n",
       "      <th></th>\n",
       "      <th></th>\n",
       "      <th></th>\n",
       "      <th></th>\n",
       "      <th></th>\n",
       "      <th></th>\n",
       "      <th></th>\n",
       "      <th></th>\n",
       "      <th></th>\n",
       "    </tr>\n",
       "    <tr>\n",
       "      <th>CUSTOMER_NAME</th>\n",
       "      <th>CUSTOMER_ID</th>\n",
       "      <th>CUSTOMER_OPEN_DATE</th>\n",
       "      <th>LAST_CONSULTED_DATE</th>\n",
       "      <th>VACCINATION_TYPE</th>\n",
       "      <th>DOCTOR_CONSULTED</th>\n",
       "      <th>STATE</th>\n",
       "      <th>COUNTRY</th>\n",
       "      <th>DOB</th>\n",
       "      <th>FLAG</th>\n",
       "    </tr>\n",
       "  </thead>\n",
       "  <tbody>\n",
       "    <tr>\n",
       "      <th>Alex</th>\n",
       "      <th>123457</th>\n",
       "      <th>2012-10-12</th>\n",
       "      <th>2012-10-13</th>\n",
       "      <th>MVD</th>\n",
       "      <th>Paul</th>\n",
       "      <th>SA</th>\n",
       "      <th>USA</th>\n",
       "      <th>1987-03-06</th>\n",
       "      <th>A</th>\n",
       "    </tr>\n",
       "    <tr>\n",
       "      <th>Jacob</th>\n",
       "      <th>1256</th>\n",
       "      <th>2012-10-12</th>\n",
       "      <th>2012-10-13</th>\n",
       "      <th>MVD</th>\n",
       "      <th></th>\n",
       "      <th>VIC</th>\n",
       "      <th>AU</th>\n",
       "      <th>1987-03-06</th>\n",
       "      <th>A</th>\n",
       "    </tr>\n",
       "    <tr>\n",
       "      <th>Jhon</th>\n",
       "      <th>123458</th>\n",
       "      <th>2012-10-12</th>\n",
       "      <th>2012-10-13</th>\n",
       "      <th>MVD</th>\n",
       "      <th></th>\n",
       "      <th>TN</th>\n",
       "      <th>IND</th>\n",
       "      <th>1987-03-06</th>\n",
       "      <th>A</th>\n",
       "    </tr>\n",
       "    <tr>\n",
       "      <th>Mathew</th>\n",
       "      <th>123459</th>\n",
       "      <th>2012-10-12</th>\n",
       "      <th>2012-10-13</th>\n",
       "      <th>MVD</th>\n",
       "      <th></th>\n",
       "      <th>WAS</th>\n",
       "      <th>PHIL</th>\n",
       "      <th>1987-03-06</th>\n",
       "      <th>A</th>\n",
       "    </tr>\n",
       "    <tr>\n",
       "      <th>Matt</th>\n",
       "      <th>12345</th>\n",
       "      <th>2012-10-12</th>\n",
       "      <th>2012-10-13</th>\n",
       "      <th>MVD</th>\n",
       "      <th></th>\n",
       "      <th>BOS</th>\n",
       "      <th>NYC</th>\n",
       "      <th>1987-03-06</th>\n",
       "      <th>A</th>\n",
       "    </tr>\n",
       "  </tbody>\n",
       "</table>\n",
       "</div>"
      ],
      "text/plain": [
       "Empty DataFrame\n",
       "Columns: []\n",
       "Index: [(Alex, 123457, 2012-10-12 00:00:00, 2012-10-13 00:00:00, MVD, Paul, SA, USA, 1987-03-06 00:00:00, A), (Jacob, 1256, 2012-10-12 00:00:00, 2012-10-13 00:00:00, MVD, , VIC, AU, 1987-03-06 00:00:00, A), (Jhon, 123458, 2012-10-12 00:00:00, 2012-10-13 00:00:00, MVD, , TN, IND, 1987-03-06 00:00:00, A), (Mathew, 123459, 2012-10-12 00:00:00, 2012-10-13 00:00:00, MVD, , WAS, PHIL, 1987-03-06 00:00:00, A), (Matt, 12345, 2012-10-12 00:00:00, 2012-10-13 00:00:00, MVD, , BOS, NYC, 1987-03-06 00:00:00, A)]"
      ]
     },
     "execution_count": 44,
     "metadata": {},
     "output_type": "execute_result"
    }
   ],
   "source": [
    "df = pd.read_sql('SELECT * FROM patients', con=connection)  # fitting into pandas dataframe\n",
    "df.set_index(['CUSTOMER_NAME', 'CUSTOMER_ID', 'CUSTOMER_OPEN_DATE', 'LAST_CONSULTED_DATE', 'VACCINATION_TYPE', 'DOCTOR_CONSULTED', 'STATE', 'COUNTRY', 'DOB', 'FLAG'],axis=1,inplace=True)  # setting default index"
   ]
  },
  {
   "cell_type": "code",
   "execution_count": 42,
   "id": "b30a9382",
   "metadata": {},
   "outputs": [
    {
     "data": {
      "text/html": [
       "<div>\n",
       "<style scoped>\n",
       "    .dataframe tbody tr th:only-of-type {\n",
       "        vertical-align: middle;\n",
       "    }\n",
       "\n",
       "    .dataframe tbody tr th {\n",
       "        vertical-align: top;\n",
       "    }\n",
       "\n",
       "    .dataframe thead th {\n",
       "        text-align: right;\n",
       "    }\n",
       "</style>\n",
       "<table border=\"1\" class=\"dataframe\">\n",
       "  <thead>\n",
       "    <tr style=\"text-align: right;\">\n",
       "      <th></th>\n",
       "      <th></th>\n",
       "      <th></th>\n",
       "      <th></th>\n",
       "      <th></th>\n",
       "      <th></th>\n",
       "      <th></th>\n",
       "      <th></th>\n",
       "      <th></th>\n",
       "      <th></th>\n",
       "    </tr>\n",
       "    <tr>\n",
       "      <th>CUSTOMER_NAME</th>\n",
       "      <th>CUSTOMER_ID</th>\n",
       "      <th>CUSTOMER_OPEN_DATE</th>\n",
       "      <th>LAST_CONSULTED_DATE</th>\n",
       "      <th>VACCINATION_TYPE</th>\n",
       "      <th>DOCTOR_CONSULTED</th>\n",
       "      <th>STATE</th>\n",
       "      <th>COUNTRY</th>\n",
       "      <th>DOB</th>\n",
       "      <th>FLAG</th>\n",
       "    </tr>\n",
       "  </thead>\n",
       "  <tbody>\n",
       "    <tr>\n",
       "      <th>Alex</th>\n",
       "      <th>123457</th>\n",
       "      <th>2012-10-12</th>\n",
       "      <th>2012-10-13</th>\n",
       "      <th>MVD</th>\n",
       "      <th>Paul</th>\n",
       "      <th>SA</th>\n",
       "      <th>USA</th>\n",
       "      <th>1987-03-06</th>\n",
       "      <th>A</th>\n",
       "    </tr>\n",
       "    <tr>\n",
       "      <th>Jacob</th>\n",
       "      <th>1256</th>\n",
       "      <th>2012-10-12</th>\n",
       "      <th>2012-10-13</th>\n",
       "      <th>MVD</th>\n",
       "      <th></th>\n",
       "      <th>VIC</th>\n",
       "      <th>AU</th>\n",
       "      <th>1987-03-06</th>\n",
       "      <th>A</th>\n",
       "    </tr>\n",
       "    <tr>\n",
       "      <th>Jhon</th>\n",
       "      <th>123458</th>\n",
       "      <th>2012-10-12</th>\n",
       "      <th>2012-10-13</th>\n",
       "      <th>MVD</th>\n",
       "      <th></th>\n",
       "      <th>TN</th>\n",
       "      <th>IND</th>\n",
       "      <th>1987-03-06</th>\n",
       "      <th>A</th>\n",
       "    </tr>\n",
       "    <tr>\n",
       "      <th>Mathew</th>\n",
       "      <th>123459</th>\n",
       "      <th>2012-10-12</th>\n",
       "      <th>2012-10-13</th>\n",
       "      <th>MVD</th>\n",
       "      <th></th>\n",
       "      <th>WAS</th>\n",
       "      <th>PHIL</th>\n",
       "      <th>1987-03-06</th>\n",
       "      <th>A</th>\n",
       "    </tr>\n",
       "    <tr>\n",
       "      <th>Matt</th>\n",
       "      <th>12345</th>\n",
       "      <th>2012-10-12</th>\n",
       "      <th>2012-10-13</th>\n",
       "      <th>MVD</th>\n",
       "      <th></th>\n",
       "      <th>BOS</th>\n",
       "      <th>NYC</th>\n",
       "      <th>1987-03-06</th>\n",
       "      <th>A</th>\n",
       "    </tr>\n",
       "  </tbody>\n",
       "</table>\n",
       "</div>"
      ],
      "text/plain": [
       "Empty DataFrame\n",
       "Columns: []\n",
       "Index: [(Alex, 123457, 2012-10-12 00:00:00, 2012-10-13 00:00:00, MVD, Paul, SA, USA, 1987-03-06 00:00:00, A), (Jacob, 1256, 2012-10-12 00:00:00, 2012-10-13 00:00:00, MVD, , VIC, AU, 1987-03-06 00:00:00, A), (Jhon, 123458, 2012-10-12 00:00:00, 2012-10-13 00:00:00, MVD, , TN, IND, 1987-03-06 00:00:00, A), (Mathew, 123459, 2012-10-12 00:00:00, 2012-10-13 00:00:00, MVD, , WAS, PHIL, 1987-03-06 00:00:00, A), (Matt, 12345, 2012-10-12 00:00:00, 2012-10-13 00:00:00, MVD, , BOS, NYC, 1987-03-06 00:00:00, A)]"
      ]
     },
     "execution_count": 42,
     "metadata": {},
     "output_type": "execute_result"
    }
   ],
   "source": [
    "df"
   ]
  },
  {
   "cell_type": "code",
   "execution_count": 52,
   "id": "8c3d540c",
   "metadata": {},
   "outputs": [],
   "source": [
    "ans = df.loc[df['COUNTRY'] == \"IND\"]"
   ]
  },
  {
   "cell_type": "code",
   "execution_count": 60,
   "id": "13e31d9d",
   "metadata": {},
   "outputs": [],
   "source": [
    "def show_data(country):\n",
    "    data = df.loc[df['COUNTRY'] == country]\n",
    "    print(data)"
   ]
  },
  {
   "cell_type": "code",
   "execution_count": 61,
   "id": "b5f0c23c",
   "metadata": {},
   "outputs": [],
   "source": [
    "def get_file(country):\n",
    "    data = df.loc[df['COUNTRY'] == country]\n",
    "    file_name = str(country)\n",
    "    data.to_csv('C:/Users/prate/Incubyte_Assignment' + country + \".csv\")  # replace path with your desired path\n",
    "    print(\"File has been created to the specified path\")"
   ]
  },
  {
   "cell_type": "code",
   "execution_count": 62,
   "id": "21b63e11",
   "metadata": {},
   "outputs": [
    {
     "name": "stdout",
     "output_type": "stream",
     "text": [
      "  CUSTOMER_NAME CUSTOMER_ID CUSTOMER_OPEN_DATE LAST_CONSULTED_DATE  \\\n",
      "2          Jhon      123458         2012-10-12          2012-10-13   \n",
      "\n",
      "  VACCINATION_TYPE DOCTOR_CONSULTED STATE COUNTRY         DOB FLAG  \n",
      "2              MVD                     TN     IND  1987-03-06    A  \n",
      "File has been created to the specified path\n"
     ]
    }
   ],
   "source": [
    "# calling functions\n",
    "\n",
    "show_data(\"IND\")\n",
    "get_file(\"IND\")"
   ]
  },
  {
   "cell_type": "code",
   "execution_count": 63,
   "id": "8586daa9",
   "metadata": {},
   "outputs": [
    {
     "name": "stdout",
     "output_type": "stream",
     "text": [
      "Empty DataFrame\n",
      "Columns: [CUSTOMER_NAME, CUSTOMER_ID, CUSTOMER_OPEN_DATE, LAST_CONSULTED_DATE, VACCINATION_TYPE, DOCTOR_CONSULTED, STATE, COUNTRY, DOB, FLAG]\n",
      "Index: []\n",
      "File has been created to the specified path\n"
     ]
    }
   ],
   "source": [
    "show_data(\"AUS\")\n",
    "get_file(\"AUS\")"
   ]
  },
  {
   "cell_type": "code",
   "execution_count": null,
   "id": "6b7b3c12",
   "metadata": {},
   "outputs": [],
   "source": [
    "\\"
   ]
  }
 ],
 "metadata": {
  "kernelspec": {
   "display_name": "Python 3 (ipykernel)",
   "language": "python",
   "name": "python3"
  },
  "language_info": {
   "codemirror_mode": {
    "name": "ipython",
    "version": 3
   },
   "file_extension": ".py",
   "mimetype": "text/x-python",
   "name": "python",
   "nbconvert_exporter": "python",
   "pygments_lexer": "ipython3",
   "version": "3.8.8"
  }
 },
 "nbformat": 4,
 "nbformat_minor": 5
}
